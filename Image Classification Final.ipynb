{
 "cells": [
  {
   "cell_type": "code",
   "execution_count": 1,
   "id": "d13a62c2",
   "metadata": {},
   "outputs": [],
   "source": [
    "import pandas as pd\n",
    "import numpy as np\n",
    "\n",
    "from sklearn.svm import SVC\n",
    "from sklearn.model_selection import GridSearchCV\n",
    "from sklearn.model_selection import train_test_split\n",
    "from sklearn.metrics import accuracy_score\n",
    "\n",
    "## Images:\n",
    "from skimage.transform import resize\n",
    "from skimage.io import imread\n",
    "\n",
    "import os\n",
    "import matplotlib.pyplot as plt\n",
    "\n",
    "import pickle"
   ]
  },
  {
   "cell_type": "code",
   "execution_count": 3,
   "id": "cda908b5",
   "metadata": {},
   "outputs": [
    {
     "name": "stdout",
     "output_type": "stream",
     "text": [
      "loading... category:  ChickenHead\n",
      "loaded category  ChickenHead successfully\n",
      "loading... category:  ElephantHead\n",
      "loaded category  ElephantHead successfully\n"
     ]
    }
   ],
   "source": [
    "datadir = 'Images/'\n",
    "categories = ['ChickenHead', 'ElephantHead']\n",
    "\n",
    "flat_data_arr = []\n",
    "target_arr = []\n",
    "\n",
    "for i in categories:\n",
    "    print ('loading... category: ', i)\n",
    "    path = os.path.join (datadir, i) #Images/ChickenHead   #Images/ElephantHead\n",
    "    for img in os.listdir (path):  #listdir - return a list of all file names in the path\n",
    "        img_array = imread (os.path.join (path, img))\n",
    "        img_resized = resize (img_array, (150, 150, 3)) #matrix of 150,150,3\n",
    "        flat_data_arr.append (img_resized.flatten()) #array: 1x(150x150x30) flat_data_array(img1.., img2,..)\n",
    "        target_arr.append (categories.index(i))\n",
    "    print (\"loaded category \", i, \"successfully\")  "
   ]
  },
  {
   "cell_type": "code",
   "execution_count": 4,
   "id": "7357dadb",
   "metadata": {},
   "outputs": [
    {
     "data": {
      "text/html": [
       "<div>\n",
       "<style scoped>\n",
       "    .dataframe tbody tr th:only-of-type {\n",
       "        vertical-align: middle;\n",
       "    }\n",
       "\n",
       "    .dataframe tbody tr th {\n",
       "        vertical-align: top;\n",
       "    }\n",
       "\n",
       "    .dataframe thead th {\n",
       "        text-align: right;\n",
       "    }\n",
       "</style>\n",
       "<table border=\"1\" class=\"dataframe\">\n",
       "  <thead>\n",
       "    <tr style=\"text-align: right;\">\n",
       "      <th></th>\n",
       "      <th>0</th>\n",
       "      <th>1</th>\n",
       "      <th>2</th>\n",
       "      <th>3</th>\n",
       "      <th>4</th>\n",
       "      <th>5</th>\n",
       "      <th>6</th>\n",
       "      <th>7</th>\n",
       "      <th>8</th>\n",
       "      <th>9</th>\n",
       "      <th>...</th>\n",
       "      <th>67491</th>\n",
       "      <th>67492</th>\n",
       "      <th>67493</th>\n",
       "      <th>67494</th>\n",
       "      <th>67495</th>\n",
       "      <th>67496</th>\n",
       "      <th>67497</th>\n",
       "      <th>67498</th>\n",
       "      <th>67499</th>\n",
       "      <th>Target</th>\n",
       "    </tr>\n",
       "  </thead>\n",
       "  <tbody>\n",
       "    <tr>\n",
       "      <th>0</th>\n",
       "      <td>0.764706</td>\n",
       "      <td>0.749020</td>\n",
       "      <td>0.600000</td>\n",
       "      <td>0.764706</td>\n",
       "      <td>0.749020</td>\n",
       "      <td>0.600000</td>\n",
       "      <td>0.768627</td>\n",
       "      <td>0.752941</td>\n",
       "      <td>0.603922</td>\n",
       "      <td>0.764706</td>\n",
       "      <td>...</td>\n",
       "      <td>0.698039</td>\n",
       "      <td>0.705882</td>\n",
       "      <td>0.549020</td>\n",
       "      <td>0.698039</td>\n",
       "      <td>0.705882</td>\n",
       "      <td>0.549020</td>\n",
       "      <td>0.698039</td>\n",
       "      <td>0.705882</td>\n",
       "      <td>0.549020</td>\n",
       "      <td>0</td>\n",
       "    </tr>\n",
       "    <tr>\n",
       "      <th>1</th>\n",
       "      <td>0.031373</td>\n",
       "      <td>0.031373</td>\n",
       "      <td>0.039216</td>\n",
       "      <td>0.031373</td>\n",
       "      <td>0.031373</td>\n",
       "      <td>0.039216</td>\n",
       "      <td>0.031373</td>\n",
       "      <td>0.031373</td>\n",
       "      <td>0.039216</td>\n",
       "      <td>0.031373</td>\n",
       "      <td>...</td>\n",
       "      <td>0.223529</td>\n",
       "      <td>0.215686</td>\n",
       "      <td>0.227451</td>\n",
       "      <td>0.188235</td>\n",
       "      <td>0.180392</td>\n",
       "      <td>0.192157</td>\n",
       "      <td>0.227451</td>\n",
       "      <td>0.219608</td>\n",
       "      <td>0.231373</td>\n",
       "      <td>0</td>\n",
       "    </tr>\n",
       "    <tr>\n",
       "      <th>2</th>\n",
       "      <td>0.239216</td>\n",
       "      <td>0.270588</td>\n",
       "      <td>0.219608</td>\n",
       "      <td>0.239216</td>\n",
       "      <td>0.270588</td>\n",
       "      <td>0.219608</td>\n",
       "      <td>0.243137</td>\n",
       "      <td>0.274510</td>\n",
       "      <td>0.223529</td>\n",
       "      <td>0.247059</td>\n",
       "      <td>...</td>\n",
       "      <td>0.439216</td>\n",
       "      <td>0.447059</td>\n",
       "      <td>0.352941</td>\n",
       "      <td>0.439216</td>\n",
       "      <td>0.447059</td>\n",
       "      <td>0.352941</td>\n",
       "      <td>0.439216</td>\n",
       "      <td>0.447059</td>\n",
       "      <td>0.352941</td>\n",
       "      <td>0</td>\n",
       "    </tr>\n",
       "    <tr>\n",
       "      <th>3</th>\n",
       "      <td>0.254902</td>\n",
       "      <td>0.250980</td>\n",
       "      <td>0.172549</td>\n",
       "      <td>0.254902</td>\n",
       "      <td>0.250980</td>\n",
       "      <td>0.172549</td>\n",
       "      <td>0.247059</td>\n",
       "      <td>0.243137</td>\n",
       "      <td>0.164706</td>\n",
       "      <td>0.243137</td>\n",
       "      <td>...</td>\n",
       "      <td>0.105882</td>\n",
       "      <td>0.113725</td>\n",
       "      <td>0.062745</td>\n",
       "      <td>0.105882</td>\n",
       "      <td>0.113725</td>\n",
       "      <td>0.062745</td>\n",
       "      <td>0.101961</td>\n",
       "      <td>0.109804</td>\n",
       "      <td>0.058824</td>\n",
       "      <td>0</td>\n",
       "    </tr>\n",
       "    <tr>\n",
       "      <th>4</th>\n",
       "      <td>0.058824</td>\n",
       "      <td>0.050980</td>\n",
       "      <td>0.070588</td>\n",
       "      <td>0.058824</td>\n",
       "      <td>0.050980</td>\n",
       "      <td>0.070588</td>\n",
       "      <td>0.058824</td>\n",
       "      <td>0.050980</td>\n",
       "      <td>0.070588</td>\n",
       "      <td>0.058824</td>\n",
       "      <td>...</td>\n",
       "      <td>0.192157</td>\n",
       "      <td>0.203922</td>\n",
       "      <td>0.223529</td>\n",
       "      <td>0.180392</td>\n",
       "      <td>0.192157</td>\n",
       "      <td>0.211765</td>\n",
       "      <td>0.172549</td>\n",
       "      <td>0.184314</td>\n",
       "      <td>0.203922</td>\n",
       "      <td>0</td>\n",
       "    </tr>\n",
       "  </tbody>\n",
       "</table>\n",
       "<p>5 rows × 67501 columns</p>\n",
       "</div>"
      ],
      "text/plain": [
       "          0         1         2         3         4         5         6  \\\n",
       "0  0.764706  0.749020  0.600000  0.764706  0.749020  0.600000  0.768627   \n",
       "1  0.031373  0.031373  0.039216  0.031373  0.031373  0.039216  0.031373   \n",
       "2  0.239216  0.270588  0.219608  0.239216  0.270588  0.219608  0.243137   \n",
       "3  0.254902  0.250980  0.172549  0.254902  0.250980  0.172549  0.247059   \n",
       "4  0.058824  0.050980  0.070588  0.058824  0.050980  0.070588  0.058824   \n",
       "\n",
       "          7         8         9  ...     67491     67492     67493     67494  \\\n",
       "0  0.752941  0.603922  0.764706  ...  0.698039  0.705882  0.549020  0.698039   \n",
       "1  0.031373  0.039216  0.031373  ...  0.223529  0.215686  0.227451  0.188235   \n",
       "2  0.274510  0.223529  0.247059  ...  0.439216  0.447059  0.352941  0.439216   \n",
       "3  0.243137  0.164706  0.243137  ...  0.105882  0.113725  0.062745  0.105882   \n",
       "4  0.050980  0.070588  0.058824  ...  0.192157  0.203922  0.223529  0.180392   \n",
       "\n",
       "      67495     67496     67497     67498     67499  Target  \n",
       "0  0.705882  0.549020  0.698039  0.705882  0.549020       0  \n",
       "1  0.180392  0.192157  0.227451  0.219608  0.231373       0  \n",
       "2  0.447059  0.352941  0.439216  0.447059  0.352941       0  \n",
       "3  0.113725  0.062745  0.101961  0.109804  0.058824       0  \n",
       "4  0.192157  0.211765  0.172549  0.184314  0.203922       0  \n",
       "\n",
       "[5 rows x 67501 columns]"
      ]
     },
     "execution_count": 4,
     "metadata": {},
     "output_type": "execute_result"
    }
   ],
   "source": [
    "flat_data = np.array (flat_data_arr)\n",
    "target = np.array (target_arr)\n",
    "\n",
    "df = pd.DataFrame (flat_data)\n",
    "df['Target'] = target\n",
    "\n",
    "df.head()"
   ]
  },
  {
   "cell_type": "code",
   "execution_count": 16,
   "id": "4e1b4ca6",
   "metadata": {},
   "outputs": [
    {
     "data": {
      "text/plain": [
       "<bound method IndexOpsMixin.value_counts of 0      0\n",
       "1      0\n",
       "2      0\n",
       "3      0\n",
       "4      0\n",
       "      ..\n",
       "195    1\n",
       "196    1\n",
       "197    1\n",
       "198    1\n",
       "199    1\n",
       "Name: Target, Length: 200, dtype: int64>"
      ]
     },
     "execution_count": 16,
     "metadata": {},
     "output_type": "execute_result"
    }
   ],
   "source": [
    "df['Target'].value_counts"
   ]
  },
  {
   "cell_type": "code",
   "execution_count": 8,
   "id": "303c7d61",
   "metadata": {},
   "outputs": [],
   "source": [
    "X = df.values[:, :-1]\n",
    "Y = df.values[:, -1]\n",
    "\n",
    "xtrain, xtest, ytrain, ytest = train_test_split (X, Y, test_size=0.2, random_state=47)"
   ]
  },
  {
   "cell_type": "markdown",
   "id": "349ec204",
   "metadata": {},
   "source": [
    "## Support Vector Machine"
   ]
  },
  {
   "cell_type": "code",
   "execution_count": 9,
   "id": "d94a28bc",
   "metadata": {},
   "outputs": [
    {
     "data": {
      "text/plain": [
       "GridSearchCV(estimator=SVC(),\n",
       "             param_grid={'C': [10, 100], 'gamma': [0.0001, 0.001, 0.1, 1, 10],\n",
       "                         'kernel': ['rbf', 'poly']})"
      ]
     },
     "execution_count": 9,
     "metadata": {},
     "output_type": "execute_result"
    }
   ],
   "source": [
    "param_grid = {'C': [10, 100], 'gamma': [0.0001, 0.001, 0.1, 1, 10], 'kernel': ['rbf', 'poly']}\n",
    "svc = SVC()\n",
    "\n",
    "model = GridSearchCV (svc, param_grid)\n",
    "model.fit (xtrain, ytrain)"
   ]
  },
  {
   "cell_type": "code",
   "execution_count": 10,
   "id": "1cbd0c1c",
   "metadata": {},
   "outputs": [
    {
     "name": "stdout",
     "output_type": "stream",
     "text": [
      "{'C': 10, 'gamma': 0.0001, 'kernel': 'rbf'}\n",
      "Train Accuracy:  1.0\n",
      "Test Accuracy:  0.925\n"
     ]
    }
   ],
   "source": [
    "print (model.best_params_)\n",
    "ypred_train = model.predict (xtrain)\n",
    "ypred_test = model.predict (xtest)\n",
    "\n",
    "print ('Train Accuracy: ', accuracy_score (ypred_train, ytrain))\n",
    "print ('Test Accuracy: ', accuracy_score (ypred_test, ytest))"
   ]
  },
  {
   "cell_type": "code",
   "execution_count": 12,
   "id": "e1cc48c3",
   "metadata": {},
   "outputs": [],
   "source": [
    "pickle.dump (model, open('svcModel.pkl', 'wb'))"
   ]
  },
  {
   "cell_type": "code",
   "execution_count": 13,
   "id": "c89ce02a",
   "metadata": {},
   "outputs": [],
   "source": [
    "model = pickle.load (open('svcModel.pkl', 'rb'))"
   ]
  },
  {
   "cell_type": "code",
   "execution_count": 14,
   "id": "ce674e57",
   "metadata": {},
   "outputs": [
    {
     "name": "stdout",
     "output_type": "stream",
     "text": [
      "(1, 67500)\n"
     ]
    }
   ],
   "source": [
    "filename = 'testImages/chicken1.png'\n",
    "\n",
    "img_array = imread (filename)\n",
    "img_resized = resize (img_array, (150, 150, 3))\n",
    "test_data = np.array (img_resized.flatten())\n",
    "test_data = test_data.reshape(1, -1)\n",
    "print (test_data.shape)"
   ]
  },
  {
   "cell_type": "code",
   "execution_count": 17,
   "id": "d3686947",
   "metadata": {},
   "outputs": [
    {
     "name": "stdout",
     "output_type": "stream",
     "text": [
      "Chicken\n"
     ]
    }
   ],
   "source": [
    "p = model.predict (test_data)\n",
    "if p==0: print ('Chicken')\n",
    "elif p==1: print('Elephant')"
   ]
  },
  {
   "cell_type": "markdown",
   "id": "92898f93",
   "metadata": {},
   "source": [
    "## Random Forest"
   ]
  },
  {
   "cell_type": "code",
   "execution_count": 20,
   "id": "2a3bf597",
   "metadata": {},
   "outputs": [
    {
     "name": "stdout",
     "output_type": "stream",
     "text": [
      "Accuracy =  0.925 for n =  199\n"
     ]
    }
   ],
   "source": [
    "from sklearn.ensemble import RandomForestClassifier\n",
    "from sklearn.datasets import make_classification\n",
    "\n",
    "maxAccuracy = -1\n",
    "best_estimators = 25\n",
    "for n in range(25, 200, 1):\n",
    "    rf = RandomForestClassifier (n_estimators =n)\n",
    "    rf.fit (xtrain, ytrain)\n",
    "    ypred3 = rf.predict (xtest)\n",
    "    a3 = accuracy_score (ypred3, ytest)\n",
    "    if a3 > maxAccuracy: \n",
    "        maxAccuracy = a3\n",
    "        best_estimators = n\n",
    "        \n",
    "print ('Accuracy = ', a3, 'for n = ', n)"
   ]
  },
  {
   "cell_type": "markdown",
   "id": "8ecbb989",
   "metadata": {},
   "source": [
    "## KNN"
   ]
  },
  {
   "cell_type": "code",
   "execution_count": 25,
   "id": "cd5791fe",
   "metadata": {},
   "outputs": [
    {
     "name": "stdout",
     "output_type": "stream",
     "text": [
      "k=1, accuracy=92.50%\n",
      "k=2, accuracy=95.00%\n",
      "k=3, accuracy=85.00%\n",
      "k=4, accuracy=95.00%\n",
      "max accuracy:  0.95   for k= 2\n"
     ]
    },
    {
     "name": "stderr",
     "output_type": "stream",
     "text": [
      "/Users/sebastiansalazar/opt/anaconda3/lib/python3.9/site-packages/sklearn/neighbors/_classification.py:228: FutureWarning: Unlike other reduction functions (e.g. `skew`, `kurtosis`), the default behavior of `mode` typically preserves the axis it acts along. In SciPy 1.11.0, this behavior will change: the default value of `keepdims` will become False, the `axis` over which the statistic is taken will be eliminated, and the value None will no longer be accepted. Set `keepdims` to True or False to avoid this warning.\n",
      "  mode, _ = stats.mode(_y[neigh_ind, k], axis=1)\n",
      "/Users/sebastiansalazar/opt/anaconda3/lib/python3.9/site-packages/sklearn/neighbors/_classification.py:228: FutureWarning: Unlike other reduction functions (e.g. `skew`, `kurtosis`), the default behavior of `mode` typically preserves the axis it acts along. In SciPy 1.11.0, this behavior will change: the default value of `keepdims` will become False, the `axis` over which the statistic is taken will be eliminated, and the value None will no longer be accepted. Set `keepdims` to True or False to avoid this warning.\n",
      "  mode, _ = stats.mode(_y[neigh_ind, k], axis=1)\n",
      "/Users/sebastiansalazar/opt/anaconda3/lib/python3.9/site-packages/sklearn/neighbors/_classification.py:228: FutureWarning: Unlike other reduction functions (e.g. `skew`, `kurtosis`), the default behavior of `mode` typically preserves the axis it acts along. In SciPy 1.11.0, this behavior will change: the default value of `keepdims` will become False, the `axis` over which the statistic is taken will be eliminated, and the value None will no longer be accepted. Set `keepdims` to True or False to avoid this warning.\n",
      "  mode, _ = stats.mode(_y[neigh_ind, k], axis=1)\n",
      "/Users/sebastiansalazar/opt/anaconda3/lib/python3.9/site-packages/sklearn/neighbors/_classification.py:228: FutureWarning: Unlike other reduction functions (e.g. `skew`, `kurtosis`), the default behavior of `mode` typically preserves the axis it acts along. In SciPy 1.11.0, this behavior will change: the default value of `keepdims` will become False, the `axis` over which the statistic is taken will be eliminated, and the value None will no longer be accepted. Set `keepdims` to True or False to avoid this warning.\n",
      "  mode, _ = stats.mode(_y[neigh_ind, k], axis=1)\n"
     ]
    }
   ],
   "source": [
    "from sklearn.neighbors import KNeighborsClassifier\n",
    "from sklearn.model_selection import train_test_split\n",
    "\n",
    "scores = []\n",
    "for k in range(1, 5):\n",
    "    knn = KNeighborsClassifier (n_neighbors = k)\n",
    "    knn.fit (xtrain, ytrain)\n",
    "    \n",
    "    ypred = knn.predict (xtest)\n",
    "    score = accuracy_score (ypred, ytest)\n",
    "    \n",
    "    print(\"k=%d, accuracy=%.2f%%\" % (k, score * 100))\n",
    "    scores.append (score)\n",
    "     \n",
    "m = max (scores)\n",
    "print('max accuracy: ', m, '  for k=', scores.index(m)+1)"
   ]
  },
  {
   "cell_type": "code",
   "execution_count": null,
   "id": "72dd0523",
   "metadata": {},
   "outputs": [],
   "source": [
    "from sklearn.ensemble import AdaBoostClassifier\n",
    "\n",
    "maxAccuracy = -1\n",
    "best_estimators = 25\n",
    "for n in range(25, 200, 1):\n",
    "    ab = AdaBoostClassifier (n_estimators = n)\n",
    "    ab.fit(xtrain, ytrain)\n",
    "    ypred4 = ab.predict (xtest)\n",
    "\n",
    "    a4 = accuracy_score (ypred4, ytest)\n",
    "    if a4 > maxAccuracy: \n",
    "        maxAccuracy = a4\n",
    "        best_estimators = n\n",
    "        \n",
    "print ('Accuarcy = ', a4)"
   ]
  },
  {
   "cell_type": "markdown",
   "id": "be2db780",
   "metadata": {},
   "source": [
    "## Neural Networks"
   ]
  },
  {
   "cell_type": "code",
   "execution_count": 28,
   "id": "38103df8",
   "metadata": {},
   "outputs": [
    {
     "name": "stdout",
     "output_type": "stream",
     "text": [
      "Best hyperparameters:  {'activation': 'identity', 'hidden_layer_sizes': 1}\n"
     ]
    }
   ],
   "source": [
    "from sklearn.neural_network import MLPClassifier\n",
    "\n",
    "mlp = MLPClassifier(max_iter=1000)\n",
    "param_grid = {'activation': ['relu', 'identity'],'hidden_layer_sizes': [1,2]}\n",
    "\n",
    "model = GridSearchCV(mlp, param_grid, cv=3)\n",
    "model.fit(xtrain, ytrain)\n",
    "\n",
    "# Print the best hyperparameters\n",
    "print(\"Best hyperparameters: \", model.best_params_)"
   ]
  },
  {
   "cell_type": "code",
   "execution_count": 29,
   "id": "b4441f48",
   "metadata": {},
   "outputs": [
    {
     "name": "stdout",
     "output_type": "stream",
     "text": [
      "{'activation': 'identity', 'hidden_layer_sizes': 1}\n",
      "Train Accuracy:  1.0\n",
      "Test Accuracy:  0.95\n"
     ]
    }
   ],
   "source": [
    "print (model.best_params_)\n",
    "ypred_train = model.predict (xtrain)\n",
    "ypred_test = model.predict (xtest)\n",
    "\n",
    "print ('Train Accuracy: ', accuracy_score (ypred_train, ytrain))\n",
    "print ('Test Accuracy: ', accuracy_score (ypred_test, ytest))"
   ]
  },
  {
   "cell_type": "code",
   "execution_count": 30,
   "id": "68759e93",
   "metadata": {},
   "outputs": [],
   "source": [
    "pickle.dump (model, open('nnModel.pkl', 'wb'))"
   ]
  },
  {
   "cell_type": "code",
   "execution_count": 31,
   "id": "3527bc61",
   "metadata": {},
   "outputs": [],
   "source": [
    "model = pickle.load (open('nnModel.pkl', 'rb'))"
   ]
  },
  {
   "cell_type": "code",
   "execution_count": 34,
   "id": "9cffd4d4",
   "metadata": {},
   "outputs": [
    {
     "name": "stdout",
     "output_type": "stream",
     "text": [
      "(1, 67500)\n"
     ]
    }
   ],
   "source": [
    "filename = 'testImages/elephent2.jpg'\n",
    "\n",
    "img_array = imread (filename)\n",
    "img_resized = resize (img_array, (150, 150, 3))\n",
    "test_data = np.array (img_resized.flatten())\n",
    "test_data = test_data.reshape(1, -1)\n",
    "print (test_data.shape)"
   ]
  },
  {
   "cell_type": "code",
   "execution_count": 35,
   "id": "3148f0e9",
   "metadata": {},
   "outputs": [
    {
     "name": "stdout",
     "output_type": "stream",
     "text": [
      "Elephant\n"
     ]
    }
   ],
   "source": [
    "p = model.predict (test_data)\n",
    "if p==0: print ('Chicken')\n",
    "elif p==1: print('Elephant')"
   ]
  },
  {
   "cell_type": "code",
   "execution_count": null,
   "id": "5f4edf93",
   "metadata": {},
   "outputs": [],
   "source": []
  }
 ],
 "metadata": {
  "kernelspec": {
   "display_name": "Python 3 (ipykernel)",
   "language": "python",
   "name": "python3"
  },
  "language_info": {
   "codemirror_mode": {
    "name": "ipython",
    "version": 3
   },
   "file_extension": ".py",
   "mimetype": "text/x-python",
   "name": "python",
   "nbconvert_exporter": "python",
   "pygments_lexer": "ipython3",
   "version": "3.9.13"
  }
 },
 "nbformat": 4,
 "nbformat_minor": 5
}
